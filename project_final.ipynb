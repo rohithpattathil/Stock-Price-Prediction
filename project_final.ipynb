{
 "cells": [
  {
   "cell_type": "code",
   "execution_count": 0,
   "metadata": {
    "colab": {
     "base_uri": "https://localhost:8080/",
     "height": 752
    },
    "colab_type": "code",
    "id": "mWIh8UeT0S05",
    "outputId": "8f634255-10b4-4ef5-b391-5b3f394befa6"
   },
   "outputs": [
    {
     "name": "stdout",
     "output_type": "stream",
     "text": [
      "Collecting investpy==0.9.7\n",
      "\u001b[?25l  Downloading https://files.pythonhosted.org/packages/19/ff/0eb21d146e751e42394ada5711e4b8b262f5e735e05681cfd0981c77bde5/investpy-0.9.7.tar.gz (3.9MB)\n",
      "\u001b[K     |████████████████████████████████| 3.9MB 2.8MB/s \n",
      "\u001b[?25hCollecting Unidecode>=1.1.1\n",
      "\u001b[?25l  Downloading https://files.pythonhosted.org/packages/d0/42/d9edfed04228bacea2d824904cae367ee9efd05e6cce7ceaaedd0b0ad964/Unidecode-1.1.1-py2.py3-none-any.whl (238kB)\n",
      "\u001b[K     |████████████████████████████████| 245kB 41.5MB/s \n",
      "\u001b[?25hRequirement already satisfied: pandas>=0.25.1 in /usr/local/lib/python3.6/dist-packages (from investpy==0.9.7) (0.25.3)\n",
      "Collecting lxml>=4.4.1\n",
      "\u001b[?25l  Downloading https://files.pythonhosted.org/packages/68/30/affd16b77edf9537f5be051905f33527021e20d563d013e8c42c7fd01949/lxml-4.4.2-cp36-cp36m-manylinux1_x86_64.whl (5.8MB)\n",
      "\u001b[K     |████████████████████████████████| 5.8MB 27.1MB/s \n",
      "\u001b[?25hRequirement already satisfied: setuptools>=41.2.0 in /usr/local/lib/python3.6/dist-packages (from investpy==0.9.7) (42.0.1)\n",
      "Collecting requests>=2.22.0\n",
      "\u001b[?25l  Downloading https://files.pythonhosted.org/packages/51/bd/23c926cd341ea6b7dd0b2a00aba99ae0f828be89d72b2190f27c11d4b7fb/requests-2.22.0-py2.py3-none-any.whl (57kB)\n",
      "\u001b[K     |████████████████████████████████| 61kB 8.4MB/s \n",
      "\u001b[?25hRequirement already satisfied: numpy>=1.13.3 in /usr/local/lib/python3.6/dist-packages (from pandas>=0.25.1->investpy==0.9.7) (1.17.4)\n",
      "Requirement already satisfied: pytz>=2017.2 in /usr/local/lib/python3.6/dist-packages (from pandas>=0.25.1->investpy==0.9.7) (2018.9)\n",
      "Requirement already satisfied: python-dateutil>=2.6.1 in /usr/local/lib/python3.6/dist-packages (from pandas>=0.25.1->investpy==0.9.7) (2.6.1)\n",
      "Requirement already satisfied: urllib3!=1.25.0,!=1.25.1,<1.26,>=1.21.1 in /usr/local/lib/python3.6/dist-packages (from requests>=2.22.0->investpy==0.9.7) (1.24.3)\n",
      "Requirement already satisfied: idna<2.9,>=2.5 in /usr/local/lib/python3.6/dist-packages (from requests>=2.22.0->investpy==0.9.7) (2.8)\n",
      "Requirement already satisfied: chardet<3.1.0,>=3.0.2 in /usr/local/lib/python3.6/dist-packages (from requests>=2.22.0->investpy==0.9.7) (3.0.4)\n",
      "Requirement already satisfied: certifi>=2017.4.17 in /usr/local/lib/python3.6/dist-packages (from requests>=2.22.0->investpy==0.9.7) (2019.9.11)\n",
      "Requirement already satisfied: six>=1.5 in /usr/local/lib/python3.6/dist-packages (from python-dateutil>=2.6.1->pandas>=0.25.1->investpy==0.9.7) (1.12.0)\n",
      "Building wheels for collected packages: investpy\n",
      "  Building wheel for investpy (setup.py) ... \u001b[?25l\u001b[?25hdone\n",
      "  Created wheel for investpy: filename=investpy-0.9.7-cp36-none-any.whl size=7870309 sha256=2e27b7258730c5a4550668fb6660c5e29ebfd31a55b8aa14edacbd8e5824cd30\n",
      "  Stored in directory: /root/.cache/pip/wheels/e7/93/79/08c1eaaaca0c52b25640f6a29dc164b9213c0c5e84c64733ad\n",
      "Successfully built investpy\n",
      "\u001b[31mERROR: google-colab 1.0.0 has requirement requests~=2.21.0, but you'll have requests 2.22.0 which is incompatible.\u001b[0m\n",
      "\u001b[31mERROR: datascience 0.10.6 has requirement folium==0.2.1, but you'll have folium 0.8.3 which is incompatible.\u001b[0m\n",
      "Installing collected packages: Unidecode, lxml, requests, investpy\n",
      "  Found existing installation: lxml 4.2.6\n",
      "    Uninstalling lxml-4.2.6:\n",
      "      Successfully uninstalled lxml-4.2.6\n",
      "  Found existing installation: requests 2.21.0\n",
      "    Uninstalling requests-2.21.0:\n",
      "      Successfully uninstalled requests-2.21.0\n",
      "Successfully installed Unidecode-1.1.1 investpy-0.9.7 lxml-4.4.2 requests-2.22.0\n"
     ]
    },
    {
     "data": {
      "application/vnd.colab-display-data+json": {
       "pip_warning": {
        "packages": [
         "requests"
        ]
       }
      }
     },
     "metadata": {
      "tags": []
     },
     "output_type": "display_data"
    }
   ],
   "source": [
    "!pip install investpy==0.9.7"
   ]
  },
  {
   "cell_type": "code",
   "execution_count": 0,
   "metadata": {
    "colab": {
     "base_uri": "https://localhost:8080/",
     "height": 1000
    },
    "colab_type": "code",
    "id": "fO-Thx5h0Ulm",
    "outputId": "b6ab5bd0-0070-4b56-d192-b33f26b15df0"
   },
   "outputs": [
    {
     "name": "stdout",
     "output_type": "stream",
     "text": [
      "Enter stock keyword : RELIANCE\n",
      "RELIANCE\n",
      "          country                            name  ... currency symbol\n",
      "0   united states         Reliance Steel&Aluminum  ...      USD     RS\n",
      "1          greece                   Euro Reliance  ...      EUR   EREr\n",
      "2       australia              Reliance Worldwide  ...      AUD    RWC\n",
      "3           india             Reliance Industries  ...      INR   RELI\n",
      "4           india             Reliance Industries  ...      INR   RELI\n",
      "5           india                Reliance Capital  ...      INR   RLCP\n",
      "6           india         Reliance Communications  ...      INR   RLCM\n",
      "7           india         Reliance Infrastructure  ...      INR   RLIN\n",
      "8           india                  Reliance Power  ...      INR   RPOL\n",
      "9           india            Reliance Nippon Life  ...      INR   RELL\n",
      "10          india                  Reliance Naval  ...      INR   RELV\n",
      "11          india           Reliance Home Finance  ...      INR   RLIC\n",
      "12          india                  Reliance Naval  ...      INR   RELV\n",
      "13          india                Reliance Capital  ...      INR   RLCP\n",
      "14          india         Reliance Communications  ...      INR   RLCM\n",
      "15          india             Reliance Industrial  ...      INR   REII\n",
      "16          india         Reliance Infrastructure  ...      INR   RLIN\n",
      "17          india                  Reliance Power  ...      INR   RPOL\n",
      "18          india           Reliance Home Finance  ...      INR   RLIC\n",
      "19          india            Reliance Nippon Life  ...      INR   RELL\n",
      "20      indonesia             Reliance Securities  ...      IDR   RELI\n",
      "21          japan          Japan Reliance Service  ...      JPY   4664\n",
      "22       malaysia                Reliance Pacific  ...      MYR   AVIL\n",
      "23       pakistan          Reliance Weaving Mills  ...      PKR   RELW\n",
      "24       pakistan  Reliance Cotton Spinning Mills  ...      PKR   RELI\n",
      "25       pakistan              Reliance Insurance  ...      PKR   RELN\n",
      "\n",
      "[26 rows x 6 columns]\n",
      "Enter stock name : RELI\n",
      "RELI\n",
      "               Open     High      Low    Close    Volume Currency\n",
      "Date                                                             \n",
      "2001-01-01    64.36    65.22    64.28    64.82   7540000      INR\n",
      "2001-01-02    64.61    67.97    64.61    67.65  32210000      INR\n",
      "2001-01-03    67.49    68.44    66.87    68.10  29620000      INR\n",
      "2001-01-04    68.40    69.63    67.45    67.81  16950000      INR\n",
      "2001-01-05    67.80    69.39    67.58    69.04  20710000      INR\n",
      "...             ...      ...      ...      ...       ...      ...\n",
      "2018-12-24  1101.80  1103.00  1086.50  1090.05    270420      INR\n",
      "2018-12-26  1087.00  1100.65  1066.55  1096.95    474920      INR\n",
      "2018-12-27  1105.00  1125.90  1104.45  1120.00    454770      INR\n",
      "2018-12-28  1123.30  1135.90  1122.00  1125.80    343130      INR\n",
      "2018-12-31  1127.15  1133.40  1116.60  1121.05    264250      INR\n",
      "\n",
      "[4476 rows x 6 columns]\n",
      "               Open     High      Low    Close   Volume Currency\n",
      "Date                                                            \n",
      "2019-01-01  1126.00  1130.00  1111.55  1121.35   264740      INR\n",
      "2019-01-02  1116.00  1126.75  1101.45  1106.30   322660      INR\n",
      "2019-01-03  1108.05  1114.45  1089.65  1091.75   357050      INR\n",
      "2019-01-04  1098.00  1104.35  1081.25  1099.05   397990      INR\n",
      "2019-01-07  1105.15  1117.95  1101.00  1103.45   303180      INR\n",
      "...             ...      ...      ...      ...      ...      ...\n",
      "2019-11-19  1467.50  1514.95  1465.50  1509.80   826630      INR\n",
      "2019-11-20  1552.55  1571.85  1543.55  1547.05  1140000      INR\n",
      "2019-11-21  1547.50  1556.30  1528.60  1537.25   591360      INR\n",
      "2019-11-22  1543.00  1569.60  1537.90  1546.40   475420      INR\n",
      "2019-11-25  1551.00  1564.60  1551.00  1560.70   260899      INR\n",
      "\n",
      "[219 rows x 6 columns]\n"
     ]
    }
   ],
   "source": [
    "import investpy\n",
    "import pandas as pd\n",
    "import numpy as np\n",
    "name1 = input(\"Enter stock keyword : \") \n",
    "print (name1) \n",
    "search_results = investpy.search_stocks(by='full_name', value=name1)\n",
    "print(search_results)\n",
    "key = input(\"Enter stock name : \") \n",
    "print (key) \n",
    "df = investpy.get_stock_historical_data(stock=key,\n",
    "                                       country='india',\n",
    "                                      from_date='01/01/2001',\n",
    "                                     to_date='31/12/2018')\n",
    "df_test = investpy.get_stock_historical_data(stock=key,\n",
    "                                       country='india',\n",
    "                                      from_date='01/01/2019',\n",
    "                                     to_date='25/11/2019')\n",
    "df1=df\n",
    "df_test1=df_test\n",
    "print(df)\n",
    "print(df_test)"
   ]
  },
  {
   "cell_type": "code",
   "execution_count": 0,
   "metadata": {
    "colab": {
     "base_uri": "https://localhost:8080/",
     "height": 235
    },
    "colab_type": "code",
    "id": "lUZVfDig4Fzq",
    "outputId": "6b78cf1a-c0ff-46ad-c971-1505a68a14fc"
   },
   "outputs": [
    {
     "data": {
      "text/html": [
       "<div>\n",
       "<style scoped>\n",
       "    .dataframe tbody tr th:only-of-type {\n",
       "        vertical-align: middle;\n",
       "    }\n",
       "\n",
       "    .dataframe tbody tr th {\n",
       "        vertical-align: top;\n",
       "    }\n",
       "\n",
       "    .dataframe thead th {\n",
       "        text-align: right;\n",
       "    }\n",
       "</style>\n",
       "<table border=\"1\" class=\"dataframe\">\n",
       "  <thead>\n",
       "    <tr style=\"text-align: right;\">\n",
       "      <th></th>\n",
       "      <th>Open</th>\n",
       "      <th>High</th>\n",
       "      <th>Low</th>\n",
       "      <th>Close</th>\n",
       "      <th>Volume</th>\n",
       "      <th>Currency</th>\n",
       "    </tr>\n",
       "    <tr>\n",
       "      <th>Date</th>\n",
       "      <th></th>\n",
       "      <th></th>\n",
       "      <th></th>\n",
       "      <th></th>\n",
       "      <th></th>\n",
       "      <th></th>\n",
       "    </tr>\n",
       "  </thead>\n",
       "  <tbody>\n",
       "    <tr>\n",
       "      <th>2019-11-19</th>\n",
       "      <td>1467.50</td>\n",
       "      <td>1514.95</td>\n",
       "      <td>1465.50</td>\n",
       "      <td>1509.80</td>\n",
       "      <td>826630</td>\n",
       "      <td>INR</td>\n",
       "    </tr>\n",
       "    <tr>\n",
       "      <th>2019-11-20</th>\n",
       "      <td>1552.55</td>\n",
       "      <td>1571.85</td>\n",
       "      <td>1543.55</td>\n",
       "      <td>1547.05</td>\n",
       "      <td>1140000</td>\n",
       "      <td>INR</td>\n",
       "    </tr>\n",
       "    <tr>\n",
       "      <th>2019-11-21</th>\n",
       "      <td>1547.50</td>\n",
       "      <td>1556.30</td>\n",
       "      <td>1528.60</td>\n",
       "      <td>1537.25</td>\n",
       "      <td>591360</td>\n",
       "      <td>INR</td>\n",
       "    </tr>\n",
       "    <tr>\n",
       "      <th>2019-11-22</th>\n",
       "      <td>1543.00</td>\n",
       "      <td>1569.60</td>\n",
       "      <td>1537.90</td>\n",
       "      <td>1546.40</td>\n",
       "      <td>475420</td>\n",
       "      <td>INR</td>\n",
       "    </tr>\n",
       "    <tr>\n",
       "      <th>2019-11-25</th>\n",
       "      <td>1551.00</td>\n",
       "      <td>1564.60</td>\n",
       "      <td>1551.00</td>\n",
       "      <td>1560.70</td>\n",
       "      <td>260899</td>\n",
       "      <td>INR</td>\n",
       "    </tr>\n",
       "  </tbody>\n",
       "</table>\n",
       "</div>"
      ],
      "text/plain": [
       "               Open     High      Low    Close   Volume Currency\n",
       "Date                                                            \n",
       "2019-11-19  1467.50  1514.95  1465.50  1509.80   826630      INR\n",
       "2019-11-20  1552.55  1571.85  1543.55  1547.05  1140000      INR\n",
       "2019-11-21  1547.50  1556.30  1528.60  1537.25   591360      INR\n",
       "2019-11-22  1543.00  1569.60  1537.90  1546.40   475420      INR\n",
       "2019-11-25  1551.00  1564.60  1551.00  1560.70   260899      INR"
      ]
     },
     "execution_count": 2,
     "metadata": {
      "tags": []
     },
     "output_type": "execute_result"
    }
   ],
   "source": [
    "df = df.sort_values('Date')\n",
    "df_test = df_test.sort_values('Date')\n",
    "df.reset_index(inplace=True)\n",
    "df.set_index(\"Date\", inplace=True)\n",
    "df_test.reset_index(inplace=True)\n",
    "df_test.set_index(\"Date\", inplace=True)\n",
    "df.tail()\n",
    "df_test.tail()"
   ]
  },
  {
   "cell_type": "code",
   "execution_count": 0,
   "metadata": {
    "colab": {
     "base_uri": "https://localhost:8080/",
     "height": 889
    },
    "colab_type": "code",
    "id": "WuWcrUfG4eF7",
    "outputId": "a6de8b10-a6da-48b6-b1f7-f806cc9964b6"
   },
   "outputs": [
    {
     "name": "stderr",
     "output_type": "stream",
     "text": [
      "/usr/local/lib/python3.6/dist-packages/pandas/plotting/_matplotlib/converter.py:103: FutureWarning: Using an implicitly registered datetime converter for a matplotlib plotting method. The converter was registered by pandas on import. Future versions of pandas will require you to explicitly register matplotlib converters.\n",
      "\n",
      "To register the converters:\n",
      "\t>>> from pandas.plotting import register_matplotlib_converters\n",
      "\t>>> register_matplotlib_converters()\n",
      "  warnings.warn(msg, FutureWarning)\n"
     ]
    },
    {
     "data": {
      "image/png": "[encoded data removed]",
      "text/plain": [
       "<Figure size 864x432 with 1 Axes>"
      ]
     },
     "metadata": {
      "tags": []
     },
     "output_type": "display_data"
    },
    {
     "data": {
      "text/plain": [
       "[<matplotlib.lines.Line2D at 0x7fe5e05b38d0>]"
      ]
     },
     "execution_count": 3,
     "metadata": {
      "tags": []
     },
     "output_type": "execute_result"
    },
    {
     "data": {
      "image/png": "[encoded data removed]",
      "text/plain": [
       "<Figure size 864x432 with 1 Axes>"
      ]
     },
     "metadata": {
      "tags": []
     },
     "output_type": "display_data"
    }
   ],
   "source": [
    "import matplotlib.pyplot as plt\n",
    "%matplotlib inline\n",
    "\n",
    "plt.figure(figsize = (12,6))\n",
    "plt.plot(df[\"Close\"])\n",
    "plt.xlabel('Date',fontsize=15)\n",
    "plt.ylabel('Close Price',fontsize=15)\n",
    "plt.show()\n",
    "\n",
    "\n",
    "# Rolling mean\n",
    "close_px = df['Close']\n",
    "mavg_100 = close_px.rolling(window=100).mean()\n",
    "mavg_200 = close_px.rolling(window=200).mean()\n",
    "plt.figure(figsize = (12,6))\n",
    "plt.plot(close_px,color='blue',label='Actual data')\n",
    "plt.plot(mavg_100,color='green',label='Rolling 100 mean')\n",
    "plt.plot(mavg_200,color='red',label='Rolling 200 mean')\n"
   ]
  },
  {
   "cell_type": "code",
   "execution_count": 0,
   "metadata": {
    "colab": {
     "base_uri": "https://localhost:8080/",
     "height": 68
    },
    "colab_type": "code",
    "id": "o25jWGNDdv4r",
    "outputId": "c20b36f9-ca73-4657-c7e1-641c99c8166f"
   },
   "outputs": [
    {
     "name": "stderr",
     "output_type": "stream",
     "text": [
      "INFO:numexpr.utils:NumExpr defaulting to 2 threads.\n"
     ]
    },
    {
     "name": "stdout",
     "output_type": "stream",
     "text": [
      "76.6268698157514\n",
      "51.675953006750575\n"
     ]
    }
   ],
   "source": [
    "from sklearn.metrics import mean_squared_error\n",
    "rms=rms=np.sqrt(np.mean(np.power((close_px-mavg_200),2)))\n",
    "print(rms)\n",
    "#rms=np.sqrt(np.mean(np.power((close_px)-(mavg_200),2)))\n",
    "rms=np.sqrt(np.mean(np.power((close_px-mavg_100),2)))\n",
    "print(rms)\n"
   ]
  },
  {
   "cell_type": "code",
   "execution_count": 0,
   "metadata": {
    "colab": {
     "base_uri": "https://localhost:8080/",
     "height": 204
    },
    "colab_type": "code",
    "id": "vRkSnDM05LSG",
    "outputId": "6160ddb9-d7d2-4dd3-bfeb-464945c4e685"
   },
   "outputs": [
    {
     "data": {
      "text/html": [
       "<div>\n",
       "<style scoped>\n",
       "    .dataframe tbody tr th:only-of-type {\n",
       "        vertical-align: middle;\n",
       "    }\n",
       "\n",
       "    .dataframe tbody tr th {\n",
       "        vertical-align: top;\n",
       "    }\n",
       "\n",
       "    .dataframe thead th {\n",
       "        text-align: right;\n",
       "    }\n",
       "</style>\n",
       "<table border=\"1\" class=\"dataframe\">\n",
       "  <thead>\n",
       "    <tr style=\"text-align: right;\">\n",
       "      <th></th>\n",
       "      <th>Date</th>\n",
       "      <th>Open</th>\n",
       "      <th>High</th>\n",
       "      <th>Low</th>\n",
       "      <th>Close</th>\n",
       "      <th>Volume</th>\n",
       "      <th>Currency</th>\n",
       "    </tr>\n",
       "  </thead>\n",
       "  <tbody>\n",
       "    <tr>\n",
       "      <th>4471</th>\n",
       "      <td>737052.0</td>\n",
       "      <td>1101.80</td>\n",
       "      <td>1103.00</td>\n",
       "      <td>1086.50</td>\n",
       "      <td>1090.05</td>\n",
       "      <td>270420</td>\n",
       "      <td>INR</td>\n",
       "    </tr>\n",
       "    <tr>\n",
       "      <th>4472</th>\n",
       "      <td>737054.0</td>\n",
       "      <td>1087.00</td>\n",
       "      <td>1100.65</td>\n",
       "      <td>1066.55</td>\n",
       "      <td>1096.95</td>\n",
       "      <td>474920</td>\n",
       "      <td>INR</td>\n",
       "    </tr>\n",
       "    <tr>\n",
       "      <th>4473</th>\n",
       "      <td>737055.0</td>\n",
       "      <td>1105.00</td>\n",
       "      <td>1125.90</td>\n",
       "      <td>1104.45</td>\n",
       "      <td>1120.00</td>\n",
       "      <td>454770</td>\n",
       "      <td>INR</td>\n",
       "    </tr>\n",
       "    <tr>\n",
       "      <th>4474</th>\n",
       "      <td>737056.0</td>\n",
       "      <td>1123.30</td>\n",
       "      <td>1135.90</td>\n",
       "      <td>1122.00</td>\n",
       "      <td>1125.80</td>\n",
       "      <td>343130</td>\n",
       "      <td>INR</td>\n",
       "    </tr>\n",
       "    <tr>\n",
       "      <th>4475</th>\n",
       "      <td>737059.0</td>\n",
       "      <td>1127.15</td>\n",
       "      <td>1133.40</td>\n",
       "      <td>1116.60</td>\n",
       "      <td>1121.05</td>\n",
       "      <td>264250</td>\n",
       "      <td>INR</td>\n",
       "    </tr>\n",
       "  </tbody>\n",
       "</table>\n",
       "</div>"
      ],
      "text/plain": [
       "          Date     Open     High      Low    Close  Volume Currency\n",
       "4471  737052.0  1101.80  1103.00  1086.50  1090.05  270420      INR\n",
       "4472  737054.0  1087.00  1100.65  1066.55  1096.95  474920      INR\n",
       "4473  737055.0  1105.00  1125.90  1104.45  1120.00  454770      INR\n",
       "4474  737056.0  1123.30  1135.90  1122.00  1125.80  343130      INR\n",
       "4475  737059.0  1127.15  1133.40  1116.60  1121.05  264250      INR"
      ]
     },
     "execution_count": 5,
     "metadata": {
      "tags": []
     },
     "output_type": "execute_result"
    }
   ],
   "source": [
    "import matplotlib.dates as mdates\n",
    "\n",
    "# change the dates into ints for training \n",
    "dates_df = df.copy()\n",
    "dates_df = dates_df.reset_index()\n",
    "\n",
    "# Store the original dates for plotting the predicitons\n",
    "org_dates = dates_df['Date']\n",
    "\n",
    "# convert to ints\n",
    "dates_df['Date'] = dates_df['Date'].map(mdates.date2num)\n",
    "\n",
    "dates_df.tail()"
   ]
  },
  {
   "cell_type": "code",
   "execution_count": 0,
   "metadata": {
    "colab": {
     "base_uri": "https://localhost:8080/",
     "height": 85
    },
    "colab_type": "code",
    "id": "oDz01vEdSaT3",
    "outputId": "0b8a14eb-f7c0-47d3-e3ea-f42c856c843c"
   },
   "outputs": [
    {
     "name": "stderr",
     "output_type": "stream",
     "text": [
      "/usr/local/lib/python3.6/dist-packages/ipykernel_launcher.py:1: FutureWarning: Method .as_matrix will be removed in a future version. Use .values instead.\n",
      "  \"\"\"Entry point for launching an IPython kernel.\n",
      "/usr/local/lib/python3.6/dist-packages/ipykernel_launcher.py:2: FutureWarning: Method .as_matrix will be removed in a future version. Use .values instead.\n",
      "  \n"
     ]
    }
   ],
   "source": [
    "dates = dates_df['Date'].as_matrix()\n",
    "prices = df['Close'].as_matrix()\n",
    "\n",
    "#Convert to 1d Vector\n",
    "dates = np.reshape(dates, (len(dates), 1))\n",
    "prices = np.reshape(prices, (len(prices), 1))"
   ]
  },
  {
   "cell_type": "code",
   "execution_count": 0,
   "metadata": {
    "colab": {
     "base_uri": "https://localhost:8080/",
     "height": 442
    },
    "colab_type": "code",
    "id": "X7C3ifUg5YUe",
    "outputId": "68bd12b7-1c3f-4422-fdaf-0e1f39cbc9ad"
   },
   "outputs": [
    {
     "name": "stderr",
     "output_type": "stream",
     "text": [
      "/usr/local/lib/python3.6/dist-packages/sklearn/utils/validation.py:724: DataConversionWarning: A column-vector y was passed when a 1d array was expected. Please change the shape of y to (n_samples, ), for example using ravel().\n",
      "  y = column_or_1d(y, warn=True)\n"
     ]
    },
    {
     "data": {
      "image/png": "[encoded data removed]",
      "text/plain": [
       "<Figure size 864x432 with 1 Axes>"
      ]
     },
     "metadata": {
      "tags": []
     },
     "output_type": "display_data"
    }
   ],
   "source": [
    "from sklearn.svm import SVR\n",
    "\n",
    "\n",
    "\n",
    "svr_rbf = SVR(kernel= 'rbf', C= 1e3, gamma= 0.1)\n",
    "svr_rbf.fit(dates, prices)\n",
    "\n",
    "plt.figure(figsize = (12,6))\n",
    "plt.plot(dates, prices, color= 'black', label= 'Data')\n",
    "plt.plot(org_dates, svr_rbf.predict(dates), color= 'red', label= 'Support Vector Regression model') \n",
    "plt.xlabel('Date')\n",
    "plt.ylabel('Price')\n",
    "plt.legend()\n",
    "plt.show()\n"
   ]
  },
  {
   "cell_type": "code",
   "execution_count": 0,
   "metadata": {
    "colab": {
     "base_uri": "https://localhost:8080/",
     "height": 102
    },
    "colab_type": "code",
    "id": "RqxWzRjA9Gf4",
    "outputId": "bbf6ee45-e372-4438-fc70-e5ad69e8fc8a"
   },
   "outputs": [
    {
     "name": "stdout",
     "output_type": "stream",
     "text": [
      "SVR Confidence: 99.99%\n",
      "[[  64.82   67.65   68.1  ... 1120.   1125.8  1121.05]]\n",
      "[  64.91967498   65.64959226   68.20001796 ... 1107.0078138  1125.90044693\n",
      " 1120.95021617]\n",
      "2.8486588583282884\n"
     ]
    }
   ],
   "source": [
    "from sklearn.metrics import mean_squared_error\n",
    "svr_rbf_confidence=svr_rbf.score(dates,prices)\n",
    "print(f\"SVR Confidence: {round(svr_rbf_confidence*100,2)}%\")\n",
    "print(np.transpose(prices))\n",
    "print(np.transpose(np.array(svr_rbf.predict(dates))))\n",
    "#rootmean=np.sqrt(mean_squared_error((np.array(prices)),np.array(svr_rbf.predict(prices))))\n",
    "rootmean=np.sqrt(np.mean(np.power(((np.transpose(np.array(prices)))-np.array(svr_rbf.predict(dates))),2)))\n",
    "#rootmean=np.sqrt(np.mean(np.power((-),2)))\n",
    "print(rootmean)"
   ]
  },
  {
   "cell_type": "code",
   "execution_count": 0,
   "metadata": {
    "colab": {
     "base_uri": "https://localhost:8080/",
     "height": 34
    },
    "colab_type": "code",
    "id": "HAV2NbZh9Pqt",
    "outputId": "56b4a1be-62cb-4697-87c1-9b1180ef6b89"
   },
   "outputs": [
    {
     "data": {
      "text/plain": [
       "LinearRegression(copy_X=True, fit_intercept=True, n_jobs=-1, normalize=False)"
      ]
     },
     "execution_count": 9,
     "metadata": {
      "tags": []
     },
     "output_type": "execute_result"
    }
   ],
   "source": [
    "from sklearn.linear_model import LinearRegression\n",
    "lr=LinearRegression(n_jobs=-1)\n",
    "lr.fit(dates,prices)"
   ]
  },
  {
   "cell_type": "code",
   "execution_count": 0,
   "metadata": {
    "colab": {
     "base_uri": "https://localhost:8080/",
     "height": 204
    },
    "colab_type": "code",
    "id": "S9UIykSmXDl8",
    "outputId": "73442a03-b359-4b07-e5bf-4e48121c4641"
   },
   "outputs": [
    {
     "name": "stderr",
     "output_type": "stream",
     "text": [
      "/usr/local/lib/python3.6/dist-packages/sklearn/linear_model/ridge.py:147: LinAlgWarning: Ill-conditioned matrix (rcond=2.95147e-59): result may not be accurate.\n",
      "  overwrite_a=True).T\n"
     ]
    },
    {
     "data": {
      "text/plain": [
       "Pipeline(memory=None,\n",
       "         steps=[('polynomialfeatures',\n",
       "                 PolynomialFeatures(degree=5, include_bias=True,\n",
       "                                    interaction_only=False, order='C')),\n",
       "                ('ridge',\n",
       "                 Ridge(alpha=1.0, copy_X=True, fit_intercept=True,\n",
       "                       max_iter=None, normalize=False, random_state=None,\n",
       "                       solver='auto', tol=0.001))],\n",
       "         verbose=False)"
      ]
     },
     "execution_count": 10,
     "metadata": {
      "tags": []
     },
     "output_type": "execute_result"
    }
   ],
   "source": [
    "from sklearn.preprocessing import PolynomialFeatures\n",
    "from sklearn.pipeline import make_pipeline\n",
    "from sklearn.linear_model import Ridge\n",
    "clfpoly2 = make_pipeline(PolynomialFeatures(5), Ridge())\n",
    "clfpoly2.fit(dates,prices)"
   ]
  },
  {
   "cell_type": "code",
   "execution_count": 0,
   "metadata": {
    "colab": {
     "base_uri": "https://localhost:8080/",
     "height": 85
    },
    "colab_type": "code",
    "id": "nacAwTHy9fqz",
    "outputId": "7b47a339-5d4a-44de-f492-415c7f80fd7d"
   },
   "outputs": [
    {
     "name": "stdout",
     "output_type": "stream",
     "text": [
      "Linear Regression RMSE: 337.64151503389434\n",
      "Polynomial Regression RMSE: 345.0793547733305\n",
      "Linear Regression Confidence: 70.22%\n",
      "Polynomial Regression Confidence: 77.84%\n"
     ]
    }
   ],
   "source": [
    "lr_confidence=lr.score(dates,prices)\n",
    "clfpoly2_conf=clfpoly2.score(dates,prices)\n",
    "rms=np.sqrt(np.mean(np.power((np.transpose(np.array(prices))-np.array(lr.predict(dates))),2)))\n",
    "print(f\"Linear Regression RMSE:\",rms)\n",
    "rms=np.sqrt(np.mean(np.power((np.transpose(np.array(prices))-np.array(clfpoly2.predict(dates))),2)))\n",
    "#rms=np.sqrt(np.mean(np.power((np.array(prices)-np.array(.predict(prices))),2)))\n",
    "print(f\"Polynomial Regression RMSE:\",rms)\n",
    "print(f\"Linear Regression Confidence: {round(lr_confidence*100,2)}%\")\n",
    "print(f\"Polynomial Regression Confidence: {round(clfpoly2_conf*100,2)}%\")"
   ]
  },
  {
   "cell_type": "code",
   "execution_count": 0,
   "metadata": {
    "colab": {
     "base_uri": "https://localhost:8080/",
     "height": 388
    },
    "colab_type": "code",
    "id": "5yQ04_Ld9rT7",
    "outputId": "5ce0d0e2-efc3-4486-f0de-ed69cce41e25"
   },
   "outputs": [
    {
     "data": {
      "image/png": "[encoded data removed]",
      "text/plain": [
       "<Figure size 864x432 with 1 Axes>"
      ]
     },
     "metadata": {
      "tags": []
     },
     "output_type": "display_data"
    }
   ],
   "source": [
    "plt.figure(figsize = (12,6))\n",
    "plt.plot(dates, prices, color= 'black', label= 'Data')\n",
    "plt.plot(org_dates, lr.predict(dates), color= 'red', label= 'Linear Regression') \n",
    "plt.plot(org_dates, clfpoly2.predict(dates), color= 'blue', label= 'Polynomial Regression') \n",
    "plt.xlabel('Date')\n",
    "plt.ylabel('Price')\n",
    "plt.legend()\n",
    "plt.show()"
   ]
  },
  {
   "cell_type": "code",
   "execution_count": 0,
   "metadata": {
    "colab": {
     "base_uri": "https://localhost:8080/",
     "height": 34
    },
    "colab_type": "code",
    "id": "V_2do9ZOQDq2",
    "outputId": "8bbd32d3-3935-42bb-b9ce-d4ed1acd7c40"
   },
   "outputs": [
    {
     "name": "stdout",
     "output_type": "stream",
     "text": [
      "Index(['Date', 'Open', 'High', 'Low', 'Close', 'Volume', 'Currency'], dtype='object')\n"
     ]
    }
   ],
   "source": [
    "df1.reset_index(level=0, inplace=True)\n",
    "print(df1.columns)\n"
   ]
  },
  {
   "cell_type": "code",
   "execution_count": 0,
   "metadata": {
    "colab": {},
    "colab_type": "code",
    "id": "5IBz-oh5Qgn1"
   },
   "outputs": [],
   "source": [
    "df1['Date'] = pd.to_datetime(df.Date,format='%Y-%m-%d')\n",
    "df1.index = df['Date']\n",
    "print(df1)"
   ]
  },
  {
   "cell_type": "code",
   "execution_count": 0,
   "metadata": {
    "colab": {},
    "colab_type": "code",
    "id": "8mQC82lZUEb5"
   },
   "outputs": [],
   "source": [
    "data = df1.sort_index(ascending=True, axis=0)\n"
   ]
  },
  {
   "cell_type": "code",
   "execution_count": 0,
   "metadata": {
    "colab": {},
    "colab_type": "code",
    "id": "U5PvvWbcRDFo"
   },
   "outputs": [],
   "source": [
    "new_data = pd.DataFrame(index=range(0,len(df1)),columns=['Date', 'Close'])\n",
    "for i in range(0,len(data)):\n",
    "    new_data['Date'][i] = data['Date'][i]\n",
    "    new_data['Close'][i] = data['Close'][i]"
   ]
  },
  {
   "cell_type": "code",
   "execution_count": 0,
   "metadata": {
    "colab": {
     "base_uri": "https://localhost:8080/",
     "height": 573
    },
    "colab_type": "code",
    "id": "T0bxMIwWRHDn",
    "outputId": "654dde62-6ea7-45e2-a2f5-d48a05087d5c"
   },
   "outputs": [
    {
     "name": "stdout",
     "output_type": "stream",
     "text": [
      "Requirement already satisfied: tensorflow in /usr/local/lib/python3.6/dist-packages (1.15.0)\n",
      "Requirement already satisfied: google-pasta>=0.1.6 in /usr/local/lib/python3.6/dist-packages (from tensorflow) (0.1.8)\n",
      "Requirement already satisfied: numpy<2.0,>=1.16.0 in /usr/local/lib/python3.6/dist-packages (from tensorflow) (1.17.4)\n",
      "Requirement already satisfied: astor>=0.6.0 in /usr/local/lib/python3.6/dist-packages (from tensorflow) (0.8.0)\n",
      "Requirement already satisfied: gast==0.2.2 in /usr/local/lib/python3.6/dist-packages (from tensorflow) (0.2.2)\n",
      "Requirement already satisfied: wheel>=0.26 in /usr/local/lib/python3.6/dist-packages (from tensorflow) (0.33.6)\n",
      "Requirement already satisfied: wrapt>=1.11.1 in /usr/local/lib/python3.6/dist-packages (from tensorflow) (1.11.2)\n",
      "Requirement already satisfied: grpcio>=1.8.6 in /usr/local/lib/python3.6/dist-packages (from tensorflow) (1.15.0)\n",
      "Requirement already satisfied: opt-einsum>=2.3.2 in /usr/local/lib/python3.6/dist-packages (from tensorflow) (3.1.0)\n",
      "Requirement already satisfied: keras-preprocessing>=1.0.5 in /usr/local/lib/python3.6/dist-packages (from tensorflow) (1.1.0)\n",
      "Requirement already satisfied: keras-applications>=1.0.8 in /usr/local/lib/python3.6/dist-packages (from tensorflow) (1.0.8)\n",
      "Requirement already satisfied: protobuf>=3.6.1 in /usr/local/lib/python3.6/dist-packages (from tensorflow) (3.10.0)\n",
      "Requirement already satisfied: six>=1.10.0 in /usr/local/lib/python3.6/dist-packages (from tensorflow) (1.12.0)\n",
      "Requirement already satisfied: tensorboard<1.16.0,>=1.15.0 in /usr/local/lib/python3.6/dist-packages (from tensorflow) (1.15.0)\n",
      "Requirement already satisfied: absl-py>=0.7.0 in /usr/local/lib/python3.6/dist-packages (from tensorflow) (0.8.1)\n",
      "Requirement already satisfied: termcolor>=1.1.0 in /usr/local/lib/python3.6/dist-packages (from tensorflow) (1.1.0)\n",
      "Requirement already satisfied: tensorflow-estimator==1.15.1 in /usr/local/lib/python3.6/dist-packages (from tensorflow) (1.15.1)\n",
      "Requirement already satisfied: h5py in /usr/local/lib/python3.6/dist-packages (from keras-applications>=1.0.8->tensorflow) (2.8.0)\n",
      "Requirement already satisfied: setuptools in /usr/local/lib/python3.6/dist-packages (from protobuf>=3.6.1->tensorflow) (42.0.1)\n",
      "Requirement already satisfied: markdown>=2.6.8 in /usr/local/lib/python3.6/dist-packages (from tensorboard<1.16.0,>=1.15.0->tensorflow) (3.1.1)\n",
      "Requirement already satisfied: werkzeug>=0.11.15 in /usr/local/lib/python3.6/dist-packages (from tensorboard<1.16.0,>=1.15.0->tensorflow) (0.16.0)\n"
     ]
    },
    {
     "data": {
      "text/html": [
       "<p style=\"color: red;\">\n",
       "The default version of TensorFlow in Colab will soon switch to TensorFlow 2.x.<br>\n",
       "We recommend you <a href=\"https://www.tensorflow.org/guide/migrate\" target=\"_blank\">upgrade</a> now \n",
       "or ensure your notebook will continue to use TensorFlow 1.x via the <code>%tensorflow_version 1.x</code> magic:\n",
       "<a href=\"https://colab.research.google.com/notebooks/tensorflow_version.ipynb\" target=\"_blank\">more info</a>.</p>\n"
      ],
      "text/plain": [
       "<IPython.core.display.HTML object>"
      ]
     },
     "metadata": {
      "tags": []
     },
     "output_type": "display_data"
    },
    {
     "name": "stdout",
     "output_type": "stream",
     "text": [
      "Requirement already satisfied: keras in /usr/local/lib/python3.6/dist-packages (2.2.5)\n",
      "Requirement already satisfied: pyyaml in /usr/local/lib/python3.6/dist-packages (from keras) (3.13)\n",
      "Requirement already satisfied: six>=1.9.0 in /usr/local/lib/python3.6/dist-packages (from keras) (1.12.0)\n",
      "Requirement already satisfied: scipy>=0.14 in /usr/local/lib/python3.6/dist-packages (from keras) (1.3.3)\n",
      "Requirement already satisfied: h5py in /usr/local/lib/python3.6/dist-packages (from keras) (2.8.0)\n",
      "Requirement already satisfied: numpy>=1.9.1 in /usr/local/lib/python3.6/dist-packages (from keras) (1.17.4)\n",
      "Requirement already satisfied: keras-preprocessing>=1.1.0 in /usr/local/lib/python3.6/dist-packages (from keras) (1.1.0)\n",
      "Requirement already satisfied: keras-applications>=1.0.8 in /usr/local/lib/python3.6/dist-packages (from keras) (1.0.8)\n"
     ]
    },
    {
     "name": "stderr",
     "output_type": "stream",
     "text": [
      "Using TensorFlow backend.\n"
     ]
    }
   ],
   "source": [
    "from sklearn.preprocessing import MinMaxScaler\n",
    "!pip install tensorflow\n",
    "import tensorflow\n",
    "!pip install keras\n",
    "from keras.models import Sequential\n",
    "from keras.layers import Dense, Dropout, LSTM"
   ]
  },
  {
   "cell_type": "code",
   "execution_count": 0,
   "metadata": {
    "colab": {},
    "colab_type": "code",
    "id": "it3bmPX2Rbry"
   },
   "outputs": [],
   "source": [
    "new_data.index = new_data.Date\n",
    "new_data.drop('Date', axis=1, inplace=True)"
   ]
  },
  {
   "cell_type": "code",
   "execution_count": 0,
   "metadata": {
    "colab": {},
    "colab_type": "code",
    "id": "18jE7ChWRia-"
   },
   "outputs": [],
   "source": [
    "dataset = new_data.values\n",
    "\n",
    "train = dataset[0:3750,:]\n",
    "valid = dataset[3751:,:]"
   ]
  },
  {
   "cell_type": "code",
   "execution_count": 0,
   "metadata": {
    "colab": {},
    "colab_type": "code",
    "id": "QA-k4eTcRuWm"
   },
   "outputs": [],
   "source": [
    "scaler = MinMaxScaler(feature_range=(0, 1))\n",
    "scaled_data = scaler.fit_transform(dataset)"
   ]
  },
  {
   "cell_type": "code",
   "execution_count": 0,
   "metadata": {
    "colab": {},
    "colab_type": "code",
    "id": "cDI3oYcVRxKK"
   },
   "outputs": [],
   "source": [
    "x_train, y_train = [], []\n",
    "for i in range(200,len(train)):\n",
    "    x_train.append(scaled_data[i-200:i,0])\n",
    "    y_train.append(scaled_data[i,0])\n",
    "x_train, y_train = np.array(x_train), np.array(y_train)\n",
    "\n",
    "x_train = np.reshape(x_train, (x_train.shape[0],x_train.shape[1],1))"
   ]
  },
  {
   "cell_type": "code",
   "execution_count": 0,
   "metadata": {
    "colab": {
     "base_uri": "https://localhost:8080/",
     "height": 139
    },
    "colab_type": "code",
    "id": "TV013wpxR1L8",
    "outputId": "1c2a3045-a8fe-46cd-fc6e-2b8d13495d53"
   },
   "outputs": [
    {
     "name": "stderr",
     "output_type": "stream",
     "text": [
      "WARNING:tensorflow:From /usr/local/lib/python3.6/dist-packages/keras/backend/tensorflow_backend.py:66: The name tf.get_default_graph is deprecated. Please use tf.compat.v1.get_default_graph instead.\n",
      "\n",
      "WARNING:tensorflow:From /usr/local/lib/python3.6/dist-packages/keras/backend/tensorflow_backend.py:541: The name tf.placeholder is deprecated. Please use tf.compat.v1.placeholder instead.\n",
      "\n",
      "WARNING:tensorflow:From /usr/local/lib/python3.6/dist-packages/keras/backend/tensorflow_backend.py:4432: The name tf.random_uniform is deprecated. Please use tf.random.uniform instead.\n",
      "\n"
     ]
    }
   ],
   "source": [
    "model = Sequential()\n",
    "model.add(LSTM(units=50, return_sequences=True, input_shape=(x_train.shape[1],1)))\n",
    "model.add(LSTM(units=50))\n",
    "model.add(Dense(1))"
   ]
  },
  {
   "cell_type": "code",
   "execution_count": 0,
   "metadata": {
    "colab": {
     "base_uri": "https://localhost:8080/",
     "height": 428
    },
    "colab_type": "code",
    "id": "RLstuOkBSAWw",
    "outputId": "17fa00dc-28e8-4b45-a204-442bf6a5a7a9"
   },
   "outputs": [
    {
     "name": "stderr",
     "output_type": "stream",
     "text": [
      "WARNING:tensorflow:From /usr/local/lib/python3.6/dist-packages/keras/optimizers.py:793: The name tf.train.Optimizer is deprecated. Please use tf.compat.v1.train.Optimizer instead.\n",
      "\n",
      "WARNING:tensorflow:From /usr/local/lib/python3.6/dist-packages/tensorflow_core/python/ops/math_grad.py:1424: where (from tensorflow.python.ops.array_ops) is deprecated and will be removed in a future version.\n",
      "Instructions for updating:\n",
      "Use tf.where in 2.0, which has the same broadcast rule as np.where\n",
      "WARNING:tensorflow:From /usr/local/lib/python3.6/dist-packages/keras/backend/tensorflow_backend.py:1033: The name tf.assign_add is deprecated. Please use tf.compat.v1.assign_add instead.\n",
      "\n",
      "WARNING:tensorflow:From /usr/local/lib/python3.6/dist-packages/keras/backend/tensorflow_backend.py:1020: The name tf.assign is deprecated. Please use tf.compat.v1.assign instead.\n",
      "\n",
      "WARNING:tensorflow:From /usr/local/lib/python3.6/dist-packages/keras/backend/tensorflow_backend.py:3005: The name tf.Session is deprecated. Please use tf.compat.v1.Session instead.\n",
      "\n",
      "WARNING:tensorflow:From /usr/local/lib/python3.6/dist-packages/keras/backend/tensorflow_backend.py:190: The name tf.get_default_session is deprecated. Please use tf.compat.v1.get_default_session instead.\n",
      "\n",
      "WARNING:tensorflow:From /usr/local/lib/python3.6/dist-packages/keras/backend/tensorflow_backend.py:197: The name tf.ConfigProto is deprecated. Please use tf.compat.v1.ConfigProto instead.\n",
      "\n"
     ]
    },
    {
     "name": "stdout",
     "output_type": "stream",
     "text": [
      "Epoch 1/1\n"
     ]
    },
    {
     "name": "stderr",
     "output_type": "stream",
     "text": [
      "WARNING:tensorflow:From /usr/local/lib/python3.6/dist-packages/keras/backend/tensorflow_backend.py:207: The name tf.global_variables is deprecated. Please use tf.compat.v1.global_variables instead.\n",
      "\n",
      "WARNING:tensorflow:From /usr/local/lib/python3.6/dist-packages/keras/backend/tensorflow_backend.py:216: The name tf.is_variable_initialized is deprecated. Please use tf.compat.v1.is_variable_initialized instead.\n",
      "\n",
      "WARNING:tensorflow:From /usr/local/lib/python3.6/dist-packages/keras/backend/tensorflow_backend.py:223: The name tf.variables_initializer is deprecated. Please use tf.compat.v1.variables_initializer instead.\n",
      "\n"
     ]
    },
    {
     "name": "stdout",
     "output_type": "stream",
     "text": [
      " - 2881s - loss: 4.9583e-04\n"
     ]
    }
   ],
   "source": [
    "model.compile(loss='mean_squared_error', optimizer='adam')\n",
    "model.fit(x_train, y_train, epochs=1, batch_size=1, verbose=2)\n",
    "inputs = new_data[len(new_data) - len(valid) - 200:].values\n",
    "inputs = inputs.reshape(-1,1)\n",
    "inputs  = scaler.transform(inputs)"
   ]
  },
  {
   "cell_type": "code",
   "execution_count": 0,
   "metadata": {
    "colab": {},
    "colab_type": "code",
    "id": "Wmcp0TbuV6Ut"
   },
   "outputs": [],
   "source": [
    "X_test = []\n",
    "for i in range(200,inputs.shape[0]):\n",
    "    X_test.append(inputs[i-200:i,0])\n",
    "X_test = np.array(X_test)\n"
   ]
  },
  {
   "cell_type": "code",
   "execution_count": 0,
   "metadata": {
    "colab": {},
    "colab_type": "code",
    "id": "bNBhcLOlVylG"
   },
   "outputs": [],
   "source": [
    "from sklearn.metrics import f1_score\n",
    "X_test = np.reshape(X_test, (X_test.shape[0],X_test.shape[1],1))\n",
    "closing_price = model.predict(X_test)\n",
    "closing_price = scaler.inverse_transform(closing_price)"
   ]
  },
  {
   "cell_type": "code",
   "execution_count": 0,
   "metadata": {
    "colab": {
     "base_uri": "https://localhost:8080/",
     "height": 34
    },
    "colab_type": "code",
    "id": "Q-lXRPX3WAp8",
    "outputId": "f0af4aef-0e1e-4bda-e2a4-375bf6b5351f"
   },
   "outputs": [
    {
     "name": "stdout",
     "output_type": "stream",
     "text": [
      "49.22605310123542\n"
     ]
    }
   ],
   "source": [
    "rms=np.sqrt(np.mean(np.power((valid-closing_price),2)))\n",
    "print(rms)"
   ]
  },
  {
   "cell_type": "code",
   "execution_count": 0,
   "metadata": {
    "colab": {
     "base_uri": "https://localhost:8080/",
     "height": 401
    },
    "colab_type": "code",
    "id": "YlkguxVqWDsG",
    "outputId": "c1778102-c708-4fc2-a2f0-a0ed12d6d76b"
   },
   "outputs": [
    {
     "name": "stderr",
     "output_type": "stream",
     "text": [
      "/usr/local/lib/python3.6/dist-packages/ipykernel_launcher.py:3: SettingWithCopyWarning: \n",
      "A value is trying to be set on a copy of a slice from a DataFrame.\n",
      "Try using .loc[row_indexer,col_indexer] = value instead\n",
      "\n",
      "See the caveats in the documentation: http://pandas.pydata.org/pandas-docs/stable/user_guide/indexing.html#returning-a-view-versus-a-copy\n",
      "  This is separate from the ipykernel package so we can avoid doing imports until\n"
     ]
    },
    {
     "data": {
      "text/plain": [
       "[<matplotlib.lines.Line2D at 0x7fe5382c4b38>,\n",
       " <matplotlib.lines.Line2D at 0x7fe5382c4c50>]"
      ]
     },
     "execution_count": 21,
     "metadata": {
      "tags": []
     },
     "output_type": "execute_result"
    },
    {
     "data": {
      "image/png": "[encoded data removed]",
      "text/plain": [
       "<Figure size 432x288 with 1 Axes>"
      ]
     },
     "metadata": {
      "tags": []
     },
     "output_type": "display_data"
    }
   ],
   "source": [
    "train = new_data[:3750]\n",
    "valid = new_data[3751:]\n",
    "valid['Predictions'] = closing_price\n",
    "plt.plot(train['Close'])\n",
    "plt.plot(valid[['Close','Predictions']])"
   ]
  },
  {
   "cell_type": "code",
   "execution_count": 0,
   "metadata": {
    "colab": {
     "base_uri": "https://localhost:8080/",
     "height": 323
    },
    "colab_type": "code",
    "id": "618JXOTwhZTl",
    "outputId": "e0509c0e-1722-455d-a8ce-95bcf04b7440"
   },
   "outputs": [
    {
     "name": "stdout",
     "output_type": "stream",
     "text": [
      "Requirement already satisfied: nbconvert in /usr/local/lib/python3.6/dist-packages (5.6.1)\n",
      "Requirement already satisfied: pandocfilters>=1.4.1 in /usr/local/lib/python3.6/dist-packages (from nbconvert) (1.4.2)\n",
      "Requirement already satisfied: testpath in /usr/local/lib/python3.6/dist-packages (from nbconvert) (0.4.4)\n",
      "Requirement already satisfied: nbformat>=4.4 in /usr/local/lib/python3.6/dist-packages (from nbconvert) (4.4.0)\n",
      "Requirement already satisfied: mistune<2,>=0.8.1 in /usr/local/lib/python3.6/dist-packages (from nbconvert) (0.8.4)\n",
      "Requirement already satisfied: pygments in /usr/local/lib/python3.6/dist-packages (from nbconvert) (2.1.3)\n",
      "Requirement already satisfied: defusedxml in /usr/local/lib/python3.6/dist-packages (from nbconvert) (0.6.0)\n",
      "Requirement already satisfied: jupyter-core in /usr/local/lib/python3.6/dist-packages (from nbconvert) (4.6.1)\n",
      "Requirement already satisfied: jinja2>=2.4 in /usr/local/lib/python3.6/dist-packages (from nbconvert) (2.10.3)\n",
      "Requirement already satisfied: bleach in /usr/local/lib/python3.6/dist-packages (from nbconvert) (3.1.0)\n",
      "Requirement already satisfied: entrypoints>=0.2.2 in /usr/local/lib/python3.6/dist-packages (from nbconvert) (0.3)\n",
      "Requirement already satisfied: traitlets>=4.2 in /usr/local/lib/python3.6/dist-packages (from nbconvert) (4.3.3)\n",
      "Requirement already satisfied: ipython-genutils in /usr/local/lib/python3.6/dist-packages (from nbformat>=4.4->nbconvert) (0.2.0)\n",
      "Requirement already satisfied: jsonschema!=2.5.0,>=2.4 in /usr/local/lib/python3.6/dist-packages (from nbformat>=4.4->nbconvert) (2.6.0)\n",
      "Requirement already satisfied: MarkupSafe>=0.23 in /usr/local/lib/python3.6/dist-packages (from jinja2>=2.4->nbconvert) (1.1.1)\n",
      "Requirement already satisfied: six>=1.9.0 in /usr/local/lib/python3.6/dist-packages (from bleach->nbconvert) (1.12.0)\n",
      "Requirement already satisfied: webencodings in /usr/local/lib/python3.6/dist-packages (from bleach->nbconvert) (0.5.1)\n",
      "Requirement already satisfied: decorator in /usr/local/lib/python3.6/dist-packages (from traitlets>=4.2->nbconvert) (4.4.1)\n"
     ]
    }
   ],
   "source": [
    "!pip install nbconvert "
   ]
  }
 ],
 "metadata": {
  "accelerator": "GPU",
  "colab": {
   "collapsed_sections": [],
   "name": "Copy of project_final1.ipynb",
   "provenance": []
  },
  "kernelspec": {
   "display_name": "Python 3",
   "language": "python",
   "name": "python3"
  },
  "language_info": {
   "codemirror_mode": {
    "name": "ipython",
    "version": 3
   },
   "file_extension": ".py",
   "mimetype": "text/x-python",
   "name": "python",
   "nbconvert_exporter": "python",
   "pygments_lexer": "ipython3",
   "version": "3.7.4"
  }
 },
 "nbformat": 4,
 "nbformat_minor": 1
}
